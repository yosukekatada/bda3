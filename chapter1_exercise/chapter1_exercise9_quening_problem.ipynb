{
 "cells": [
  {
   "cell_type": "markdown",
   "metadata": {},
   "source": [
    "## BDA3 chapter1 exercise\n",
    "\n",
    "9.Simulation of a queuing problem: a clinic has three doctors. Patients come into the clinic at random, starting at 9 a.m., according to a Poisson process with time parameter 10 minutes: that is, the time after opening at which the first patient appears follows an exponential distribution with expectation 10 minutes and then, after each patient arrives, the waiting time until the next patient is independently exponentially distributed, also with expectation 10 minutes. When a patient arrives, he or she waits until a doctor is available. The amount of time spent by each doctor with each patient is a random variable, uniformly distributed between 5 and 20 minutes. The office stops admitting new patients at 4 p.m. and closes when the last patient is through with the doctor.\n",
    "(a) Simulate this process once. How many patients came to the office? How many had to wait for a doctor? What was their average wait? When did the office close?\n",
    "(b) Simulate the process 100 times and estimate the median and 50% interval for each of the summaries in (a)."
   ]
  },
  {
   "cell_type": "code",
   "execution_count": null,
   "metadata": {
    "collapsed": false
   },
   "outputs": [],
   "source": [
    "%matplotlib inline\n",
    "import numpy as np\n",
    "import pandas as pd\n",
    "import matplotlib.pyplot as plt"
   ]
  },
  {
   "cell_type": "markdown",
   "metadata": {},
   "source": [
    "### setting\n",
    "* 9 a.m. to 4 p.m. , that is 7 hours = 420 mininutes\n",
    "* patient arrival inteval  ~ exponential(10)\n",
    "* The amount of time spent by each doctor with each patient ~ Uniform(5, 20)"
   ]
  },
  {
   "cell_type": "code",
   "execution_count": null,
   "metadata": {
    "collapsed": false
   },
   "outputs": [],
   "source": [
    "def generate_patient_list():\n",
    "\n",
    "    cum_minites = 0\n",
    "    patient_list = []\n",
    "    for patient_id in range(500):\n",
    "        interval = np.random.exponential(size=1, scale=10)[0]\n",
    "        doc_time = np.random.uniform(5, 20)\n",
    "\n",
    "        cum_minites += interval\n",
    "        if cum_minites > 420:\n",
    "            break\n",
    "\n",
    "        wating_time = 0 \n",
    "        tmp_ = [patient_id, interval, cum_minites, wating_time, doc_time, 0]\n",
    "        patient_list.append(tmp_)\n",
    "\n",
    "    patient_df = pd.DataFrame(patient_list, columns=[\"patient_id\", \"interval\", \"cum_minites\", \"wating_time\", \"doc_time\", \"end_time\"])\n",
    "    return patient_df"
   ]
  },
  {
   "cell_type": "code",
   "execution_count": null,
   "metadata": {
    "collapsed": false
   },
   "outputs": [],
   "source": [
    "def calculate_wating_time(patient_df, doctor_num):\n",
    "\n",
    "    for i in patient_df.index:\n",
    "        if i ==0:\n",
    "            patient_df.loc[i, \"end_time\"] = patient_df.ix[i][\"cum_minites\"] + patient_df.ix[i][\"doc_time\"]\n",
    "        else:\n",
    "            end_time_ar = np.array(patient_df.ix[:(i-1)][\"end_time\"])\n",
    "            current_time = patient_df.ix[i][\"cum_minites\"]\n",
    "\n",
    "            #待ち時間なし\n",
    "            if sum(end_time_ar > current_time) < doctor_num:\n",
    "                patient_df.loc[i, \"end_time\"] = patient_df.ix[i][\"cum_minites\"] + patient_df.ix[i][\"doc_time\"]\n",
    "            else:\n",
    "                time_diff = end_time_ar - current_time\n",
    "                wating_time = min(time_diff[time_diff > 0])\n",
    "                patient_df.loc[i, \"wating_time\"] = wating_time\n",
    "                patient_df.loc[i, \"end_time\"] = patient_df.ix[i][\"cum_minites\"] + patient_df.ix[i][\"doc_time\"] + wating_time\n",
    "    \n",
    "    return patient_df"
   ]
  },
  {
   "cell_type": "code",
   "execution_count": null,
   "metadata": {
    "collapsed": true
   },
   "outputs": [],
   "source": [
    "def get_stats(patient_df, verbose=False):\n",
    "    \n",
    "    #How many patients came to the office? \n",
    "    num_patients = patient_df.shape[0]\n",
    "    \n",
    "    #How many had to wait for a doctor?\n",
    "    wait_patient_num = sum(patient_df[\"wating_time\"] > 0)\n",
    "    \n",
    "    #What was their average wait? \n",
    "    avg_wait_time = np.mean(patient_df[\"wating_time\"] )\n",
    "    \n",
    "    #When did the office close?\n",
    "    close_time = np.max(patient_df[\"end_time\"] )\n",
    "    \n",
    "    if verbose:\n",
    "        print(\"The number of patients: \", num_patients)\n",
    "        print(\"The number of patients to wait: \", wait_patient_num)\n",
    "        print(\"average wait: \", avg_wait_time)\n",
    "        print(\"close_time wait: \", avg_wait_time)\n",
    "    \n",
    "    return num_patients, wait_patient_num, avg_wait_time, close_time\n",
    "    "
   ]
  },
  {
   "cell_type": "markdown",
   "metadata": {},
   "source": [
    "### (a) Simulate this process once. How many patients came to the office? How many had to wait for a doctor? What was their average wait? When did the office close?"
   ]
  },
  {
   "cell_type": "code",
   "execution_count": null,
   "metadata": {
    "collapsed": false
   },
   "outputs": [],
   "source": [
    "patient_df = generate_patient_list()\n",
    "patient_df2 = calculate_wating_time(patient_df, doctor_num=3)\n",
    "get_stats(patient_df2, verbose=True)"
   ]
  },
  {
   "cell_type": "markdown",
   "metadata": {},
   "source": [
    "### (b) Simulate the process 100 times and estimate the median and 50% interval for each of the summaries in (a)"
   ]
  },
  {
   "cell_type": "code",
   "execution_count": null,
   "metadata": {
    "collapsed": false
   },
   "outputs": [],
   "source": [
    "num_patients_hist = []\n",
    "wait_patient_num_hist = []\n",
    "avg_wait_time_hist = []\n",
    "close_time_hist = []\n",
    "\n",
    "for i in range(100):\n",
    "    patient_df = generate_patient_list()\n",
    "    patient_df2 = calculate_wating_time(patient_df, doctor_num=3)\n",
    "    num_patients, wait_patient_num, avg_wait_time, close_time = get_stats(patient_df2, verbose=False)\n",
    "    \n",
    "    num_patients_hist.append(num_patients)\n",
    "    wait_patient_num_hist.append(wait_patient_num)\n",
    "    avg_wait_time_hist.append(avg_wait_time)\n",
    "    close_time_hist.append(close_time)"
   ]
  },
  {
   "cell_type": "code",
   "execution_count": null,
   "metadata": {
    "collapsed": true
   },
   "outputs": [],
   "source": [
    "def make_hist_and_stats(stats_list):\n",
    "    stats_list_ar = np.array(stats_list)\n",
    "    plt.hist(stats_list_ar);\n",
    "    stats = np.percentile(stats_list_ar, q= [25, 50, 75])\n",
    "    print(\"25pct: %.3f  /median: %.3f /75pct: %.3f\"%(stats[0], stats[1], stats[2]))"
   ]
  },
  {
   "cell_type": "markdown",
   "metadata": {},
   "source": [
    "### The number of patients to come"
   ]
  },
  {
   "cell_type": "code",
   "execution_count": null,
   "metadata": {
    "collapsed": false
   },
   "outputs": [],
   "source": [
    "make_hist_and_stats(num_patients_hist)"
   ]
  },
  {
   "cell_type": "markdown",
   "metadata": {},
   "source": [
    "### The number of patients to wait"
   ]
  },
  {
   "cell_type": "code",
   "execution_count": null,
   "metadata": {
    "collapsed": false
   },
   "outputs": [],
   "source": [
    "make_hist_and_stats(wait_patient_num_hist)"
   ]
  },
  {
   "cell_type": "markdown",
   "metadata": {},
   "source": [
    "### average wait"
   ]
  },
  {
   "cell_type": "code",
   "execution_count": null,
   "metadata": {
    "collapsed": false
   },
   "outputs": [],
   "source": [
    "make_hist_and_stats(avg_wait_time_hist)"
   ]
  },
  {
   "cell_type": "markdown",
   "metadata": {},
   "source": [
    "### Overtime"
   ]
  },
  {
   "cell_type": "code",
   "execution_count": null,
   "metadata": {
    "collapsed": false
   },
   "outputs": [],
   "source": [
    "overtime_ar = np.array(close_time_hist) - 420\n",
    "overtime_ar[overtime_ar <0] = 0\n",
    "make_hist_and_stats(overtime_ar)"
   ]
  },
  {
   "cell_type": "code",
   "execution_count": null,
   "metadata": {
    "collapsed": false
   },
   "outputs": [],
   "source": [
    "plt.subplot(2, 2, 1)\n",
    "plt.scatter(x =num_patients_hist, y= overtime_ar)\n",
    "plt.title(r\"# of patient vs overtime\")\n",
    "plt.xlabel(\"The number of patient\")\n",
    "plt.ylabel(\"overtime\")\n",
    "\n",
    "plt.subplot(2, 2, 2)\n",
    "plt.scatter(x =wait_patient_num_hist, y= overtime_ar)\n",
    "plt.title(r\"# of patient to wait vs overtime\")\n",
    "plt.xlabel(\"the number of patient to wait\")\n",
    "plt.ylabel(\"overtime\")\n",
    "\n",
    "\n",
    "plt.subplot(2, 2, 3)\n",
    "plt.scatter(x =avg_wait_time_hist, y= overtime_ar)\n",
    "plt.title(r\"Avg waiting time vs overtime\")\n",
    "plt.xlabel(\"avg. wait time\")\n",
    "plt.ylabel(\"overtime\")\n",
    "\n",
    "plt.tight_layout()"
   ]
  }
 ],
 "metadata": {
  "kernelspec": {
   "display_name": "Python 3",
   "language": "python",
   "name": "python3"
  },
  "language_info": {
   "codemirror_mode": {
    "name": "ipython",
    "version": 3
   },
   "file_extension": ".py",
   "mimetype": "text/x-python",
   "name": "python",
   "nbconvert_exporter": "python",
   "pygments_lexer": "ipython3",
   "version": "3.5.2"
  }
 },
 "nbformat": 4,
 "nbformat_minor": 1
}
